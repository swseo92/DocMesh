{
 "cells": [
  {
   "cell_type": "code",
   "execution_count": 1,
   "id": "6445bbb8-e219-4a75-8fa4-58928b6a0d9f",
   "metadata": {},
   "outputs": [],
   "source": [
    "import sys\n",
    "sys.path.append(\"../\")"
   ]
  },
  {
   "cell_type": "code",
   "execution_count": 2,
   "id": "2a818cc0-209f-4fdc-ac1c-0b5d4242f28b",
   "metadata": {},
   "outputs": [],
   "source": [
    "from docmesh.embedding import EmbeddingModelFactory\n",
    "from docmesh.vector_store import VectorStoreFactory\n",
    "\n",
    "from docmesh.llm import LLMFactory\n",
    "from docmesh.config import Config\n",
    "from docmesh.qa_bot import QAService"
   ]
  },
  {
   "cell_type": "code",
   "execution_count": 3,
   "id": "e1ad75c1-b037-4179-a8c0-05ebe3a3ccd6",
   "metadata": {},
   "outputs": [
    {
     "name": "stderr",
     "output_type": "stream",
     "text": [
      "`embedding_function` is expected to be an Embeddings object, support for passing in a function will soon be removed.\n",
      "`embedding_function` is expected to be an Embeddings object, support for passing in a function will soon be removed.\n"
     ]
    },
    {
     "data": {
      "text/plain": [
       "'langchain은 LangChain 프레임워크의 일부로, LLM(언어 모델) 애플리케이션 및 지능적 에이전트를 추적하고 평가하여 프로토타입에서 제품으로 이동하는 데 도움을 주는 LangSmith와 함께 사용되는 상태 유지형, 다중 액터 애플리케이션을 구축하는 LangGraph입니다. LangGraph은 LangChain과 원활하게 통합되지만 독립적으로 사용할 수 있으며, 많은 기업들이 신뢰하는 생산용 에이전트를 제공합니다.\\n\\nSources: https://python.langchain.com/docs/integrations/providers/'"
      ]
     },
     "execution_count": 3,
     "metadata": {},
     "output_type": "execute_result"
    }
   ],
   "source": [
    "# EmbeddingModelFactory를 통해 임베딩 모델 생성\n",
    "embedding_model = EmbeddingModelFactory.create_embedding_model(\n",
    "    provider=\"openai\", model_name=\"text-embedding-ada-002\"\n",
    ")\n",
    "# VectorStoreFactory를 통해 벡터 스토어 생성\n",
    "vector_store = VectorStoreFactory.create_vector_store(\n",
    "    provider=\"faiss\", embedding_model=embedding_model, path=\"langchain_doc.faiss\", \n",
    ")\n",
    "\n",
    "vector_store.load()\n",
    "\n",
    "# LLM 서비스 생성 (팩토리 사용)\n",
    "llm = LLMFactory.create_llm_service(\n",
    "    provider=Config.LLM_PROVIDER,\n",
    "    model=Config.LLM_MODEL,\n",
    "    temperature=Config.LLM_TEMPERATURE,\n",
    ")\n",
    "\n",
    "retriever = vector_store.vectorstore.as_retriever()\n",
    "\n",
    "bot = QAService(llm, retriever)\n",
    "bot.answer_question(\"langchain은 무엇입니까?\")"
   ]
  },
  {
   "cell_type": "code",
   "execution_count": 53,
   "id": "5991d1ef-fdf8-47ae-ba8f-b3122abd70f2",
   "metadata": {},
   "outputs": [],
   "source": [
    "import pandas as pd\n",
    "from typing import List\n",
    "\n",
    "df = pd.read_csv(\"ragas_synthetic_dataset.csv\")\n",
    "df['reference_contexts'] = df['reference_contexts'].map(eval)"
   ]
  },
  {
   "cell_type": "code",
   "execution_count": 56,
   "id": "09cd051b-0194-430f-a8a3-a373bfd83e06",
   "metadata": {},
   "outputs": [
    {
     "data": {
      "text/plain": [
       "Dataset({\n",
       "    features: ['user_input', 'reference_contexts', 'reference', 'synthesizer_name', 'retrieved_contexts'],\n",
       "    num_rows: 10\n",
       "})"
      ]
     },
     "execution_count": 56,
     "metadata": {},
     "output_type": "execute_result"
    }
   ],
   "source": [
    "from datasets import Dataset\n",
    "\n",
    "test_dataset = Dataset.from_pandas(df)\n",
    "test_dataset = test_dataset.add_column(\"retrieved_contexts\", list(test_dataset['reference_contexts']))\n",
    "test_dataset"
   ]
  },
  {
   "cell_type": "code",
   "execution_count": 57,
   "id": "3bbffd2c-9178-42c5-a4cd-93101f9bcac6",
   "metadata": {},
   "outputs": [],
   "source": [
    "list_anwser = list()\n",
    "for q in test_dataset[\"user_input\"]:\n",
    "    a = bot.answer_question(q)\n",
    "    list_anwser.append(a)"
   ]
  },
  {
   "cell_type": "code",
   "execution_count": 58,
   "id": "f1da7f60-9f98-4ac7-925d-faf577a26eed",
   "metadata": {},
   "outputs": [],
   "source": [
    "test_dataset = test_dataset.add_column(\"answer\", list_anwser)"
   ]
  },
  {
   "cell_type": "code",
   "execution_count": 45,
   "id": "a5590e9e-72eb-4c18-903b-81b6e0566ec7",
   "metadata": {},
   "outputs": [],
   "source": [
    "from ragas import evaluate\n",
    "from ragas.metrics import (\n",
    "    answer_relevancy,\n",
    "    faithfulness,\n",
    "    context_recall,\n",
    "    context_precision,\n",
    ")"
   ]
  },
  {
   "cell_type": "code",
   "execution_count": 59,
   "id": "4eee36e2-344d-4c1c-80bc-c9c0400ce62c",
   "metadata": {},
   "outputs": [
    {
     "data": {
      "application/vnd.jupyter.widget-view+json": {
       "model_id": "29db0105cb174f4ab384506e64fd66a4",
       "version_major": 2,
       "version_minor": 0
      },
      "text/plain": [
       "Evaluating:   0%|          | 0/40 [00:00<?, ?it/s]"
      ]
     },
     "metadata": {},
     "output_type": "display_data"
    }
   ],
   "source": [
    "result = evaluate(\n",
    "    dataset=test_dataset,\n",
    "    metrics=[\n",
    "        context_precision,\n",
    "        faithfulness,\n",
    "        answer_relevancy,\n",
    "        context_recall,\n",
    "    ],\n",
    ")"
   ]
  },
  {
   "cell_type": "code",
   "execution_count": 60,
   "id": "01e55ad0-9118-47d7-b5f7-b795e758903a",
   "metadata": {},
   "outputs": [
    {
     "data": {
      "text/plain": [
       "{'context_precision': 0.9000, 'faithfulness': 0.3136, 'answer_relevancy': 0.5722, 'context_recall': 0.9000}"
      ]
     },
     "execution_count": 60,
     "metadata": {},
     "output_type": "execute_result"
    }
   ],
   "source": [
    "result"
   ]
  },
  {
   "cell_type": "code",
   "execution_count": null,
   "id": "7188794e-ae31-4782-a359-3fd4800cf882",
   "metadata": {},
   "outputs": [],
   "source": []
  }
 ],
 "metadata": {
  "kernelspec": {
   "display_name": "Python 3 (ipykernel)",
   "language": "python",
   "name": "python3"
  },
  "language_info": {
   "codemirror_mode": {
    "name": "ipython",
    "version": 3
   },
   "file_extension": ".py",
   "mimetype": "text/x-python",
   "name": "python",
   "nbconvert_exporter": "python",
   "pygments_lexer": "ipython3",
   "version": "3.11.9"
  }
 },
 "nbformat": 4,
 "nbformat_minor": 5
}
