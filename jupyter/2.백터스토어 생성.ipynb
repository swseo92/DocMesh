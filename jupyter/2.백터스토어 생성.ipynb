{
 "cells": [
  {
   "cell_type": "code",
   "execution_count": 1,
   "id": "0a5eb94d-ab47-46ab-ba89-5e398cd819f5",
   "metadata": {},
   "outputs": [
    {
     "name": "stdout",
     "output_type": "stream",
     "text": [
      "['../test_data/html\\\\20250326_174714_435197_3cf46808_dbeb97ba.html', '../test_data/html\\\\20250326_174714_596617_803c4ec8_09171200.html', '../test_data/html\\\\20250326_174714_770624_135bffe2_f36a1545.html', '../test_data/html\\\\20250326_174714_851857_c459903a_7821225b.html', '../test_data/html\\\\20250326_174714_933859_364b10b1_71653482.html', '../test_data/html\\\\20250326_174715_139110_dcda1a47_1ad4404b.html', '../test_data/html\\\\20250326_174715_202036_2c04c577_2b955057.html', '../test_data/html\\\\20250326_174715_284857_26d30523_98ffa6a3.html', '../test_data/html\\\\20250326_174715_496479_8e7d7493_d5087d63.html', '../test_data/html\\\\20250326_174715_594481_7ee9bcbd_ddea7b26.html']\n"
     ]
    }
   ],
   "source": [
    "import sys\n",
    "import glob\n",
    "sys.path.append(\"../\")\n",
    "\n",
    "path_dir_test_html = \"../test_data/html\"\n",
    "list_fpath_test_html = glob.glob(path_dir_test_html + \"/*.html\")\n",
    "\n",
    "print(list_fpath_test_html)"
   ]
  },
  {
   "cell_type": "code",
   "execution_count": 2,
   "id": "4c468c33-fb28-4e57-84c6-4e4e740b7e80",
   "metadata": {},
   "outputs": [],
   "source": [
    "from docmesh.extractor.HTMLFileInspector import HTMLFileInspector\n",
    "from docmesh.text_split import HTMLContentLoader\n",
    "from docmesh.text_split.DocumentMerger import DocumentMerger\n",
    "from docmesh.text_split.DocumentChunkSplitter import DocumentChunkSplitter\n",
    "from docmesh.embedding import EmbeddingModelFactory\n",
    "from docmesh.vector_store import VectorStoreFactory"
   ]
  },
  {
   "cell_type": "code",
   "execution_count": 3,
   "id": "b44e8197-9356-4a67-af12-1f37bbebbabe",
   "metadata": {},
   "outputs": [
    {
     "name": "stderr",
     "output_type": "stream",
     "text": [
      "`embedding_function` is expected to be an Embeddings object, support for passing in a function will soon be removed.\n"
     ]
    }
   ],
   "source": [
    "# 파일 로드 객체 생성\n",
    "html_file_loader = HTMLFileInspector()\n",
    "html_content_loader = HTMLContentLoader()\n",
    "\n",
    "# 전처리 객체 생성\n",
    "doc_merger = DocumentMerger(min_tokens=500)\n",
    "doc_splitter = DocumentChunkSplitter(chunk_size=1000, chunk_overlap=100)\n",
    "# EmbeddingModelFactory를 통해 임베딩 모델 생성\n",
    "embedding_model = EmbeddingModelFactory.create_embedding_model(\n",
    "    provider=\"openai\", model_name=\"text-embedding-ada-002\"\n",
    ")\n",
    "# VectorStoreFactory를 통해 벡터 스토어 생성\n",
    "vector_store = VectorStoreFactory.create_vector_store(\n",
    "    provider=\"faiss\", embedding_model=embedding_model, path=\"langchain_doc.faiss\", \n",
    ")"
   ]
  },
  {
   "cell_type": "code",
   "execution_count": 4,
   "id": "b3abeb89-e722-4d53-8d49-7671444adf42",
   "metadata": {},
   "outputs": [],
   "source": [
    "for fpath in list_fpath_test_html:\n",
    "    url, html = html_file_loader.read_html(fpath)\n",
    "    docs_langchain = html_content_loader.load(url, html)\n",
    "    \n",
    "    docs_merged = doc_merger.merge_documents(docs_langchain) # 최소 토큰 기준으로 chunk 병합\n",
    "    docs_splitted = doc_splitter.chunkify(docs_merged) # 최대 토큰 기준으로 chunk 분리 및 overlap 생성\n",
    "    \n",
    "    vector_store.add_documents(docs_splitted)"
   ]
  },
  {
   "cell_type": "code",
   "execution_count": 5,
   "id": "eca661a5-ea33-4a8e-96b2-470d0580b09b",
   "metadata": {},
   "outputs": [],
   "source": [
    "vector_store.save()"
   ]
  },
  {
   "cell_type": "code",
   "execution_count": null,
   "id": "0a619732-fae3-4c42-849e-623219ca4d55",
   "metadata": {},
   "outputs": [],
   "source": []
  }
 ],
 "metadata": {
  "kernelspec": {
   "display_name": "Python 3 (ipykernel)",
   "language": "python",
   "name": "python3"
  },
  "language_info": {
   "codemirror_mode": {
    "name": "ipython",
    "version": 3
   },
   "file_extension": ".py",
   "mimetype": "text/x-python",
   "name": "python",
   "nbconvert_exporter": "python",
   "pygments_lexer": "ipython3",
   "version": "3.11.9"
  }
 },
 "nbformat": 4,
 "nbformat_minor": 5
}
