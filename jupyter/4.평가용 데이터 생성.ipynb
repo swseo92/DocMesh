{
 "cells": [
  {
   "cell_type": "code",
   "execution_count": 1,
   "id": "27a253d6-223e-43f9-a925-4006c56388c3",
   "metadata": {},
   "outputs": [],
   "source": [
    "import sys\n",
    "sys.path.append(\"../\")"
   ]
  },
  {
   "cell_type": "code",
   "execution_count": 2,
   "id": "91d1d70a-c06e-4819-998b-b6ace488c15f",
   "metadata": {},
   "outputs": [
    {
     "data": {
      "text/plain": [
       "10"
      ]
     },
     "execution_count": 2,
     "metadata": {},
     "output_type": "execute_result"
    }
   ],
   "source": [
    "import glob\n",
    "\n",
    "path_dir_test_data = \"../test_data/html\"\n",
    "list_path_html = glob.glob(path_dir_test_data + \"/*.html\")\n",
    "len(list_path_html)"
   ]
  },
  {
   "cell_type": "code",
   "execution_count": 3,
   "id": "7c3a58d3-7640-4639-83c0-2a4396e3445a",
   "metadata": {},
   "outputs": [],
   "source": [
    "from langchain.document_loaders import BSHTMLLoader, UnstructuredHTMLLoader\n",
    "\n",
    "loader = BSHTMLLoader(list_path_html[0], \"utf-8\")\n",
    "loaded = loader.load()  # -> List[Document]"
   ]
  },
  {
   "cell_type": "code",
   "execution_count": 4,
   "id": "f2c7c51e-ec37-4d07-8197-295094c612b1",
   "metadata": {},
   "outputs": [
    {
     "data": {
      "text/plain": [
       "str"
      ]
     },
     "execution_count": 4,
     "metadata": {},
     "output_type": "execute_result"
    }
   ],
   "source": [
    "type(loaded[0].page_content)"
   ]
  },
  {
   "cell_type": "code",
   "execution_count": 5,
   "id": "7d44e4b3-f5be-41c7-8605-25651775268a",
   "metadata": {},
   "outputs": [],
   "source": [
    "from docmesh.embedding import LangchainOpenAIEmbeddingModel\n",
    "from docmesh.llm import LangchainOpenAILLM\n",
    "from docmesh.config import Config\n",
    "\n",
    "from dotenv import load_dotenv\n",
    "\n",
    "load_dotenv()\n",
    "\n",
    "\n",
    "generator_llm = LangchainOpenAILLM(model=Config.LLM_MODEL)\n",
    "critic_llm = LangchainOpenAILLM(model=Config.LLM_MODEL)\n",
    "embedding = LangchainOpenAIEmbeddingModel()"
   ]
  },
  {
   "cell_type": "code",
   "execution_count": 6,
   "id": "6d665c34-44c6-4893-b29a-7f7d03896fc0",
   "metadata": {},
   "outputs": [
    {
     "data": {
      "text/plain": [
       "[Persona(name='Junior Developer', role_description='A developer who has just started their career in software development. They have basic programming knowledge and are actively learning how to collaborate on small tasks or bug fixes.'),\n",
       " Persona(name='Intermediate Developer', role_description='A developer with around 2–5 years of professional experience. They can independently handle most tasks using common frameworks and libraries, have a reasonable grasp of code quality and design patterns, and can mentor junior developers.'),\n",
       " Persona(name='Senior Developer', role_description='A seasoned developer with 5 or more years of hands-on experience. They are proficient in large-scale system design, performance optimization, and can effectively lead teams or mentor other developers.'),\n",
       " Persona(name='University Student', role_description='A student majoring in computer science or a related field, learning fundamental programming skills and theoretical knowledge. They may lack practical experience but have enthusiasm for expanding their understanding through projects, assignments, or internships.')]"
      ]
     },
     "execution_count": 6,
     "metadata": {},
     "output_type": "execute_result"
    }
   ],
   "source": [
    "from docmesh.evaluation import RAGTestsetGenerator, load_personas_from_yaml\n",
    "\n",
    "list_persona = load_personas_from_yaml('persona.yaml')\n",
    "list_persona"
   ]
  },
  {
   "cell_type": "code",
   "execution_count": 7,
   "id": "5dddaa58-f6ce-4b73-a6d6-90c2d948fefd",
   "metadata": {},
   "outputs": [],
   "source": [
    "generator = RAGTestsetGenerator(\n",
    "    generator_llm=generator_llm,\n",
    "    critic_llm=critic_llm,\n",
    "    generator_embeddings=embedding,\n",
    "    list_persona=list_persona\n",
    "                               )"
   ]
  },
  {
   "cell_type": "code",
   "execution_count": 8,
   "id": "ca919f63-816f-4167-aa37-8a44abace2c4",
   "metadata": {},
   "outputs": [
    {
     "data": {
      "application/vnd.jupyter.widget-view+json": {
       "model_id": "2367cc08035f4cfcbf257ba08745564a",
       "version_major": 2,
       "version_minor": 0
      },
      "text/plain": [
       "Applying HeadlinesExtractor:   0%|          | 0/9 [00:00<?, ?it/s]"
      ]
     },
     "metadata": {},
     "output_type": "display_data"
    },
    {
     "data": {
      "application/vnd.jupyter.widget-view+json": {
       "model_id": "b3c4243a84c04cd2beccb23ada0cef23",
       "version_major": 2,
       "version_minor": 0
      },
      "text/plain": [
       "Applying HeadlineSplitter:   0%|          | 0/10 [00:00<?, ?it/s]"
      ]
     },
     "metadata": {},
     "output_type": "display_data"
    },
    {
     "name": "stderr",
     "output_type": "stream",
     "text": [
      "unable to apply transformation: 'headlines' property not found in this node\n"
     ]
    },
    {
     "data": {
      "application/vnd.jupyter.widget-view+json": {
       "model_id": "398fb9f4d0d3434abc758b8990e6aecb",
       "version_major": 2,
       "version_minor": 0
      },
      "text/plain": [
       "Applying SummaryExtractor:   0%|          | 0/12 [00:00<?, ?it/s]"
      ]
     },
     "metadata": {},
     "output_type": "display_data"
    },
    {
     "name": "stderr",
     "output_type": "stream",
     "text": [
      "Property 'summary' already exists in node 'e862ea'. Skipping!\n",
      "Property 'summary' already exists in node '8168c7'. Skipping!\n",
      "Property 'summary' already exists in node '3f93c9'. Skipping!\n"
     ]
    },
    {
     "data": {
      "application/vnd.jupyter.widget-view+json": {
       "model_id": "94ab7abb113b41df9b031691829c9d30",
       "version_major": 2,
       "version_minor": 0
      },
      "text/plain": [
       "Applying CustomNodeFilter:   0%|          | 0/24 [00:00<?, ?it/s]"
      ]
     },
     "metadata": {},
     "output_type": "display_data"
    },
    {
     "data": {
      "application/vnd.jupyter.widget-view+json": {
       "model_id": "cb1a6e0cbccc42a0bcc01f9ed448fc0f",
       "version_major": 2,
       "version_minor": 0
      },
      "text/plain": [
       "Applying [EmbeddingExtractor, ThemesExtractor, NERExtractor]:   0%|          | 0/60 [00:00<?, ?it/s]"
      ]
     },
     "metadata": {},
     "output_type": "display_data"
    },
    {
     "name": "stderr",
     "output_type": "stream",
     "text": [
      "unable to apply transformation: 'ChatOpenAI' object has no attribute 'embed_query'\n",
      "unable to apply transformation: 'ChatOpenAI' object has no attribute 'embed_query'\n",
      "unable to apply transformation: 'ChatOpenAI' object has no attribute 'embed_query'\n",
      "unable to apply transformation: 'ChatOpenAI' object has no attribute 'embed_query'\n",
      "unable to apply transformation: 'ChatOpenAI' object has no attribute 'embed_query'\n",
      "unable to apply transformation: 'ChatOpenAI' object has no attribute 'embed_query'\n",
      "unable to apply transformation: 'ChatOpenAI' object has no attribute 'embed_query'\n",
      "unable to apply transformation: 'ChatOpenAI' object has no attribute 'embed_query'\n",
      "unable to apply transformation: 'ChatOpenAI' object has no attribute 'embed_query'\n",
      "unable to apply transformation: 'ChatOpenAI' object has no attribute 'embed_query'\n",
      "unable to apply transformation: 'ChatOpenAI' object has no attribute 'embed_query'\n",
      "unable to apply transformation: 'ChatOpenAI' object has no attribute 'embed_query'\n"
     ]
    },
    {
     "data": {
      "application/vnd.jupyter.widget-view+json": {
       "model_id": "3c6d98ada50e4a57912c5a1b322665b3",
       "version_major": 2,
       "version_minor": 0
      },
      "text/plain": [
       "Applying [CosineSimilarityBuilder, OverlapScoreBuilder]:   0%|          | 0/2 [00:00<?, ?it/s]"
      ]
     },
     "metadata": {},
     "output_type": "display_data"
    },
    {
     "name": "stderr",
     "output_type": "stream",
     "text": [
      "unable to apply transformation: Node 4e11857d-487d-4b23-8de8-b7a696474a78 has no summary_embedding\n"
     ]
    },
    {
     "data": {
      "application/vnd.jupyter.widget-view+json": {
       "model_id": "1ea41757167d41dcadcb7d0593750dbf",
       "version_major": 2,
       "version_minor": 0
      },
      "text/plain": [
       "Generating Scenarios:   0%|          | 0/2 [00:00<?, ?it/s]"
      ]
     },
     "metadata": {},
     "output_type": "display_data"
    },
    {
     "data": {
      "application/vnd.jupyter.widget-view+json": {
       "model_id": "3276abc7ae6a4a23ab78490dd3d8b64f",
       "version_major": 2,
       "version_minor": 0
      },
      "text/plain": [
       "Generating Samples:   0%|          | 0/10 [00:00<?, ?it/s]"
      ]
     },
     "metadata": {},
     "output_type": "display_data"
    }
   ],
   "source": [
    "result = generator.create_testset(list_path_html, testset_size=len(list_path_html))\n",
    "result_pandas = result.to_pandas()"
   ]
  },
  {
   "cell_type": "code",
   "execution_count": 9,
   "id": "3ac4c629-27d4-4b0f-9040-55653abe068a",
   "metadata": {},
   "outputs": [
    {
     "data": {
      "text/html": [
       "<div>\n",
       "<style scoped>\n",
       "    .dataframe tbody tr th:only-of-type {\n",
       "        vertical-align: middle;\n",
       "    }\n",
       "\n",
       "    .dataframe tbody tr th {\n",
       "        vertical-align: top;\n",
       "    }\n",
       "\n",
       "    .dataframe thead th {\n",
       "        text-align: right;\n",
       "    }\n",
       "</style>\n",
       "<table border=\"1\" class=\"dataframe\">\n",
       "  <thead>\n",
       "    <tr style=\"text-align: right;\">\n",
       "      <th></th>\n",
       "      <th>user_input</th>\n",
       "      <th>reference_contexts</th>\n",
       "      <th>reference</th>\n",
       "      <th>synthesizer_name</th>\n",
       "    </tr>\n",
       "  </thead>\n",
       "  <tbody>\n",
       "    <tr>\n",
       "      <th>0</th>\n",
       "      <td>What is LangChain and its significance in the ...</td>\n",
       "      <td>[Introduction | 🦜️🔗 LangChain Skip to main con...</td>\n",
       "      <td>LangChain is a platform that offers various to...</td>\n",
       "      <td>single_hop_specifc_query_synthesizer</td>\n",
       "    </tr>\n",
       "    <tr>\n",
       "      <th>1</th>\n",
       "      <td>How can a Junior Developer utilize CustomModel...</td>\n",
       "      <td>[How-to guidesHow-to guidesHow to use tools in...</td>\n",
       "      <td>To utilize CustomModels in software developmen...</td>\n",
       "      <td>single_hop_specifc_query_synthesizer</td>\n",
       "    </tr>\n",
       "    <tr>\n",
       "      <th>2</th>\n",
       "      <td>What is Pydantic and how does it relate to sof...</td>\n",
       "      <td>[IntegrationsAPI ReferenceMoreContributingPeop...</td>\n",
       "      <td>Pydantic is a compatibility tool that helps de...</td>\n",
       "      <td>single_hop_specifc_query_synthesizer</td>\n",
       "    </tr>\n",
       "    <tr>\n",
       "      <th>3</th>\n",
       "      <td>What is NVIDIA's role in the LangChain framework?</td>\n",
       "      <td>[monitor and evaluate your applications, so th...</td>\n",
       "      <td>NVIDIA is one of the chat model providers inte...</td>\n",
       "      <td>single_hop_specifc_query_synthesizer</td>\n",
       "    </tr>\n",
       "    <tr>\n",
       "      <th>4</th>\n",
       "      <td>What is LangChain and how does it relate to th...</td>\n",
       "      <td>[Providers | 🦜️🔗 LangChain Skip to main conten...</td>\n",
       "      <td>LangChain is hosting the Interrupt: The Agent ...</td>\n",
       "      <td>single_hop_specifc_query_synthesizer</td>\n",
       "    </tr>\n",
       "    <tr>\n",
       "      <th>5</th>\n",
       "      <td>How can a Junior Developer migrate from v0.0 c...</td>\n",
       "      <td>[&lt;1-hop&gt;\\n\\nHow-to guidesHow-to guidesHow to u...</td>\n",
       "      <td>A Junior Developer can migrate from v0.0 chain...</td>\n",
       "      <td>multi_hop_specific_query_synthesizer</td>\n",
       "    </tr>\n",
       "    <tr>\n",
       "      <th>6</th>\n",
       "      <td>What is the advanced implementation with LangG...</td>\n",
       "      <td>[&lt;1-hop&gt;\\n\\nBaseChatMessageHistory, you do not...</td>\n",
       "      <td>The advanced implementation with LangGraph inv...</td>\n",
       "      <td>multi_hop_specific_query_synthesizer</td>\n",
       "    </tr>\n",
       "    <tr>\n",
       "      <th>7</th>\n",
       "      <td>How can a Junior Developer migrate from v0.0 c...</td>\n",
       "      <td>[&lt;1-hop&gt;\\n\\nFew-shot promptingConceptual guide...</td>\n",
       "      <td>A Junior Developer can migrate from v0.0 chain...</td>\n",
       "      <td>multi_hop_specific_query_synthesizer</td>\n",
       "    </tr>\n",
       "    <tr>\n",
       "      <th>8</th>\n",
       "      <td>How can an Intermediate Developer build a simp...</td>\n",
       "      <td>[&lt;1-hop&gt;\\n\\nIntroduction | 🦜️🔗 LangChain Skip ...</td>\n",
       "      <td>An Intermediate Developer can build a simple L...</td>\n",
       "      <td>multi_hop_specific_query_synthesizer</td>\n",
       "    </tr>\n",
       "    <tr>\n",
       "      <th>9</th>\n",
       "      <td>How can a Junior Developer set up a connection...</td>\n",
       "      <td>[&lt;1-hop&gt;\\n\\nnatural language answer. First, we...</td>\n",
       "      <td>A Junior Developer can set up a connection wit...</td>\n",
       "      <td>multi_hop_specific_query_synthesizer</td>\n",
       "    </tr>\n",
       "  </tbody>\n",
       "</table>\n",
       "</div>"
      ],
      "text/plain": [
       "                                          user_input  \\\n",
       "0  What is LangChain and its significance in the ...   \n",
       "1  How can a Junior Developer utilize CustomModel...   \n",
       "2  What is Pydantic and how does it relate to sof...   \n",
       "3  What is NVIDIA's role in the LangChain framework?   \n",
       "4  What is LangChain and how does it relate to th...   \n",
       "5  How can a Junior Developer migrate from v0.0 c...   \n",
       "6  What is the advanced implementation with LangG...   \n",
       "7  How can a Junior Developer migrate from v0.0 c...   \n",
       "8  How can an Intermediate Developer build a simp...   \n",
       "9  How can a Junior Developer set up a connection...   \n",
       "\n",
       "                                  reference_contexts  \\\n",
       "0  [Introduction | 🦜️🔗 LangChain Skip to main con...   \n",
       "1  [How-to guidesHow-to guidesHow to use tools in...   \n",
       "2  [IntegrationsAPI ReferenceMoreContributingPeop...   \n",
       "3  [monitor and evaluate your applications, so th...   \n",
       "4  [Providers | 🦜️🔗 LangChain Skip to main conten...   \n",
       "5  [<1-hop>\\n\\nHow-to guidesHow-to guidesHow to u...   \n",
       "6  [<1-hop>\\n\\nBaseChatMessageHistory, you do not...   \n",
       "7  [<1-hop>\\n\\nFew-shot promptingConceptual guide...   \n",
       "8  [<1-hop>\\n\\nIntroduction | 🦜️🔗 LangChain Skip ...   \n",
       "9  [<1-hop>\\n\\nnatural language answer. First, we...   \n",
       "\n",
       "                                           reference  \\\n",
       "0  LangChain is a platform that offers various to...   \n",
       "1  To utilize CustomModels in software developmen...   \n",
       "2  Pydantic is a compatibility tool that helps de...   \n",
       "3  NVIDIA is one of the chat model providers inte...   \n",
       "4  LangChain is hosting the Interrupt: The Agent ...   \n",
       "5  A Junior Developer can migrate from v0.0 chain...   \n",
       "6  The advanced implementation with LangGraph inv...   \n",
       "7  A Junior Developer can migrate from v0.0 chain...   \n",
       "8  An Intermediate Developer can build a simple L...   \n",
       "9  A Junior Developer can set up a connection wit...   \n",
       "\n",
       "                       synthesizer_name  \n",
       "0  single_hop_specifc_query_synthesizer  \n",
       "1  single_hop_specifc_query_synthesizer  \n",
       "2  single_hop_specifc_query_synthesizer  \n",
       "3  single_hop_specifc_query_synthesizer  \n",
       "4  single_hop_specifc_query_synthesizer  \n",
       "5  multi_hop_specific_query_synthesizer  \n",
       "6  multi_hop_specific_query_synthesizer  \n",
       "7  multi_hop_specific_query_synthesizer  \n",
       "8  multi_hop_specific_query_synthesizer  \n",
       "9  multi_hop_specific_query_synthesizer  "
      ]
     },
     "execution_count": 9,
     "metadata": {},
     "output_type": "execute_result"
    }
   ],
   "source": [
    "result_pandas"
   ]
  },
  {
   "cell_type": "code",
   "execution_count": 10,
   "id": "fd02c80c-ffd0-4b4b-bc0f-079b587e5fa2",
   "metadata": {},
   "outputs": [],
   "source": [
    "result_pandas.to_csv(\"ragas_synthetic_dataset.csv\", index=False)"
   ]
  }
 ],
 "metadata": {
  "kernelspec": {
   "display_name": "Python 3 (ipykernel)",
   "language": "python",
   "name": "python3"
  },
  "language_info": {
   "codemirror_mode": {
    "name": "ipython",
    "version": 3
   },
   "file_extension": ".py",
   "mimetype": "text/x-python",
   "name": "python",
   "nbconvert_exporter": "python",
   "pygments_lexer": "ipython3",
   "version": "3.11.9"
  }
 },
 "nbformat": 4,
 "nbformat_minor": 5
}
