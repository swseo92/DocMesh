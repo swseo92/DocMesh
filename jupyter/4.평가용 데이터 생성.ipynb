{
 "cells": [
  {
   "cell_type": "code",
   "execution_count": 1,
   "id": "27a253d6-223e-43f9-a925-4006c56388c3",
   "metadata": {},
   "outputs": [],
   "source": [
    "import sys\n",
    "sys.path.append(\"../\")"
   ]
  },
  {
   "cell_type": "code",
   "execution_count": 2,
   "id": "91d1d70a-c06e-4819-998b-b6ace488c15f",
   "metadata": {},
   "outputs": [
    {
     "data": {
      "text/plain": [
       "10"
      ]
     },
     "execution_count": 2,
     "metadata": {},
     "output_type": "execute_result"
    }
   ],
   "source": [
    "import glob\n",
    "\n",
    "path_dir_test_data = \"../test_data/html\"\n",
    "list_path_html = glob.glob(path_dir_test_data + \"/*.html\")\n",
    "len(list_path_html)"
   ]
  },
  {
   "cell_type": "code",
   "execution_count": 3,
   "id": "7c3a58d3-7640-4639-83c0-2a4396e3445a",
   "metadata": {},
   "outputs": [],
   "source": [
    "from langchain.document_loaders import BSHTMLLoader, UnstructuredHTMLLoader\n",
    "\n",
    "loader = BSHTMLLoader(list_path_html[0], \"utf-8\")\n",
    "loaded = loader.load()  # -> List[Document]"
   ]
  },
  {
   "cell_type": "code",
   "execution_count": 4,
   "id": "f2c7c51e-ec37-4d07-8197-295094c612b1",
   "metadata": {},
   "outputs": [
    {
     "data": {
      "text/plain": [
       "str"
      ]
     },
     "execution_count": 4,
     "metadata": {},
     "output_type": "execute_result"
    }
   ],
   "source": [
    "type(loaded[0].page_content)"
   ]
  },
  {
   "cell_type": "code",
   "execution_count": 5,
   "id": "7d44e4b3-f5be-41c7-8605-25651775268a",
   "metadata": {},
   "outputs": [],
   "source": [
    "from docmesh.embedding import LangchainOpenAIEmbeddingModel\n",
    "from docmesh.llm import LangchainOpenAILLM\n",
    "from docmesh.config import Config\n",
    "\n",
    "from dotenv import load_dotenv\n",
    "\n",
    "load_dotenv()\n",
    "\n",
    "\n",
    "generator_llm = LangchainOpenAILLM(model=Config.LLM_MODEL)\n",
    "critic_llm = LangchainOpenAILLM(model=Config.LLM_MODEL)\n",
    "embedding = LangchainOpenAIEmbeddingModel()"
   ]
  },
  {
   "cell_type": "code",
   "execution_count": 6,
   "id": "6d665c34-44c6-4893-b29a-7f7d03896fc0",
   "metadata": {},
   "outputs": [
    {
     "data": {
      "text/plain": [
       "[Persona(name='Junior Developer', role_description='A developer who has just started their career in software development. They have basic programming knowledge and are actively learning how to collaborate on small tasks or bug fixes.'),\n",
       " Persona(name='Intermediate Developer', role_description='A developer with around 2–5 years of professional experience. They can independently handle most tasks using common frameworks and libraries, have a reasonable grasp of code quality and design patterns, and can mentor junior developers.'),\n",
       " Persona(name='Senior Developer', role_description='A seasoned developer with 5 or more years of hands-on experience. They are proficient in large-scale system design, performance optimization, and can effectively lead teams or mentor other developers.'),\n",
       " Persona(name='University Student', role_description='A student majoring in computer science or a related field, learning fundamental programming skills and theoretical knowledge. They may lack practical experience but have enthusiasm for expanding their understanding through projects, assignments, or internships.')]"
      ]
     },
     "execution_count": 6,
     "metadata": {},
     "output_type": "execute_result"
    }
   ],
   "source": [
    "from docmesh.evaluation import RAGTestsetGenerator, load_personas_from_yaml\n",
    "\n",
    "list_persona = load_personas_from_yaml('persona.yaml')\n",
    "list_persona"
   ]
  },
  {
   "cell_type": "code",
   "execution_count": 7,
   "id": "5dddaa58-f6ce-4b73-a6d6-90c2d948fefd",
   "metadata": {},
   "outputs": [],
   "source": [
    "generator = RAGTestsetGenerator(\n",
    "    generator_llm=generator_llm,\n",
    "    critic_llm=critic_llm,\n",
    "    generator_embeddings=embedding,\n",
    "    list_persona=list_persona\n",
    "                               )"
   ]
  },
  {
   "cell_type": "code",
   "execution_count": 8,
   "id": "87edd09d-2e74-495c-974e-3bde19945cf7",
   "metadata": {},
   "outputs": [],
   "source": [
    "from ragas.testset.transforms import HeadlineSplitter, HeadlinesExtractor\n",
    "from ragas.testset.transforms.extractors import NERExtractor\n",
    "\n",
    "\n",
    "transforms = [\n",
    "    HeadlinesExtractor(), \n",
    "    HeadlineSplitter(), \n",
    "    NERExtractor()\n",
    "]"
   ]
  },
  {
   "cell_type": "code",
   "execution_count": null,
   "id": "ca919f63-816f-4167-aa37-8a44abace2c4",
   "metadata": {
    "scrolled": true
   },
   "outputs": [
    {
     "data": {
      "application/vnd.jupyter.widget-view+json": {
       "model_id": "afe74974b73541cbaf5a9e5100e9ddd7",
       "version_major": 2,
       "version_minor": 0
      },
      "text/plain": [
       "Applying HeadlinesExtractor:   0%|          | 0/73 [00:00<?, ?it/s]"
      ]
     },
     "metadata": {},
     "output_type": "display_data"
    }
   ],
   "source": [
    "result = generator.create_testset(list_path_html, testset_size=len(list_path_html), transforms=transforms)\n",
    "result_pandas = result.to_pandas()"
   ]
  },
  {
   "cell_type": "code",
   "execution_count": null,
   "id": "3ac4c629-27d4-4b0f-9040-55653abe068a",
   "metadata": {},
   "outputs": [],
   "source": [
    "result_pandas"
   ]
  },
  {
   "cell_type": "code",
   "execution_count": null,
   "id": "fd02c80c-ffd0-4b4b-bc0f-079b587e5fa2",
   "metadata": {},
   "outputs": [],
   "source": [
    "result_pandas.to_csv(\"ragas_synthetic_dataset.csv\", index=False)"
   ]
  }
 ],
 "metadata": {
  "kernelspec": {
   "display_name": "Python 3 (ipykernel)",
   "language": "python",
   "name": "python3"
  },
  "language_info": {
   "codemirror_mode": {
    "name": "ipython",
    "version": 3
   },
   "file_extension": ".py",
   "mimetype": "text/x-python",
   "name": "python",
   "nbconvert_exporter": "python",
   "pygments_lexer": "ipython3",
   "version": "3.11.9"
  }
 },
 "nbformat": 4,
 "nbformat_minor": 5
}
